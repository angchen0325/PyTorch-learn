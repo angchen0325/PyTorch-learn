{
 "cells": [
  {
   "cell_type": "markdown",
   "metadata": {},
   "source": [
    "<center> <img src=\"data:image/svg+xml;base64,PD94bWwgdmVyc2lvbj0iMS4wIiBlbmNvZGluZz0iVVRGLTgiPz4KPHN2ZyB3aWR0aD0iMjU2cHgiIGhlaWdodD0iMzEwcHgiIHZpZXdCb3g9IjAgMCAyNTYgMzEwIiB2ZXJzaW9uPSIxLjEiIHhtbG5zPSJodHRwOi8vd3d3LnczLm9yZy8yMDAwL3N2ZyIgcHJlc2VydmVBc3BlY3RSYXRpbz0ieE1pZFlNaWQiPgogICAgPHRpdGxlPlB5VG9yY2g8L3RpdGxlPgogICAgPGc+CiAgICAgICAgPHBhdGggZD0iTTEyNy44MjUzNzUsMCBMMTI3LjgyNTM3NSw0NS4wNTMyMDYgTDU4LjYwMTQzODUsMTE0LjI3NDU4MSBDMjIuMzcyNDQ5OCwxNTEuMDE5Mjc5IDIyLjM3NjE0NjYsMjEwLjEyNzU5NCA1OC42MTI1MjksMjQ3LjUzODc3MiBMNTkuNzIxNjkxNywyNDguNjY1NzU3IEM5Ni43NDIxNTU1LDI4Ni4zODQ3MiAxNTcuNTExNTk2LDI4Ni4zODQ3MiAxOTUuMjMwNTU5LDI0OC42NjU3NTcgQzIzMi41NzIzMzMsMjEyLjAxNTQ5OCAyMzIuOTQ1NzUxLDE1Mi4wODg4NjcgMTk2LjM1MDgxMywxMTQuMjk1MzI3IEwxOTUuMjMwNTU5LDExMy4xNTY4ODkgTDIxOC4yODEwMzcsOTAuMTA2NDEyIEMyNjguNTcyOTg4LDE0MC4zOTgzNjMgMjY4LjU3Mjk4OCwyMjEuMDc1MDM0IDIxOC4yODEwMzcsMjcxLjcxNjIzNSBDMTY5LjAzNjgzNSwzMjIuMDA4MTg2IDg4LjAxMDkxNDEsMzIyLjAwODE4NiAzNy43MTg5NjMyLDI3MS43MTYyMzUgQy0xMi4wNzAwNjgyLDIyMS45MjcyMDMgLTEyLjU2Nzk1ODUsMTQyLjAxNTgwOCAzNi4yMjUyOTIyLDkxLjYyNDMyOTMgTDM3LjcxODk2MzIsOTAuMTA2NDEyIEwxMjcuODI1Mzc1LDAgWiBNMTczLjIyNzgzMSw1MC45OTA0NTAyIEMxODIuNDg2MzIzLDUwLjk5MDQ1MDIgMTg5Ljk5MTgxNCw1OC40OTU5NDEzIDE4OS45OTE4MTQsNjcuNzU0NDMzOCBDMTg5Ljk5MTgxNCw3Ny4wMTI5MjYzIDE4Mi40ODYzMjMsODQuNTE4NDE3NSAxNzMuMjI3ODMxLDg0LjUxODQxNzUgQzE2My45NjkzMzgsODQuNTE4NDE3NSAxNTYuNDYzODQ3LDc3LjAxMjkyNjMgMTU2LjQ2Mzg0Nyw2Ny43NTQ0MzM4IEMxNTYuNDYzODQ3LDU4LjQ5NTk0MTMgMTYzLjk2OTMzOCw1MC45OTA0NTAyIDE3My4yMjc4MzEsNTAuOTkwNDUwMiBaIiBmaWxsPSIjRUU0QzJDIj48L3BhdGg+CiAgICA8L2c+Cjwvc3ZnPgo=\" style=\"width:6.5%\"/></center>"
   ]
  },
  {
   "cell_type": "markdown",
   "metadata": {},
   "source": [
    "<center><font size=5 face=\"Helvetica\" color=#EE4B2B><b>\n",
    "Pytorch Tutorial: Tensors\n",
    "</b></font></center>"
   ]
  },
  {
   "cell_type": "markdown",
   "metadata": {},
   "source": [
    "<center><font face=\"Helvetica\" size=3><b>Ang Chen</b></font></center>\n",
    "<center><font face=\"Helvetica\" size=3>July, 2024</font></center>\n",
    "\n",
    "***"
   ]
  },
  {
   "cell_type": "markdown",
   "metadata": {},
   "source": [
    "Tensors are a specialized data structure that are very similar to arrays and matrices.\n",
    "In PyTorch, we use tensors to encode the inputs and outputs of a model, as well as the model's parameters.\n",
    "\n",
    "Tensors are similar to NumPy's ndarrays, except that tensors can run on GPUs or other hardware accelerators.\n",
    "In fact, tensors and NumPy arrays can often share the same underlying memory, eliminating the need to copy data.\n",
    "Tensor are also optimized for automatic differentiation. \n",
    "If you're familiar with ndarrays, you'll be right at home with the Tensor API.\n",
    "If not, follow along!"
   ]
  },
  {
   "cell_type": "code",
   "execution_count": 1,
   "metadata": {},
   "outputs": [],
   "source": [
    "import torch\n",
    "import numpy as np"
   ]
  },
  {
   "cell_type": "markdown",
   "metadata": {},
   "source": [
    "# Initializing a Tensor"
   ]
  },
  {
   "cell_type": "markdown",
   "metadata": {},
   "source": [
    "Tensors can be initialized in a various ways.\n",
    "Take a look at the following examples:\n",
    "\n",
    "**Directly from data**\n",
    "\n",
    "Tensors can be created from data directly.\n",
    "The data type is automatically inferred."
   ]
  },
  {
   "cell_type": "code",
   "execution_count": 2,
   "metadata": {},
   "outputs": [
    {
     "data": {
      "text/plain": [
       "tensor([[1, 2],\n",
       "        [3, 4]])"
      ]
     },
     "execution_count": 2,
     "metadata": {},
     "output_type": "execute_result"
    }
   ],
   "source": [
    "data = [[1,2], [3,4]]\n",
    "x_data = torch.tensor(data)\n",
    "x_data"
   ]
  },
  {
   "cell_type": "markdown",
   "metadata": {},
   "source": [
    "**From a NumPy array**\n",
    "Tensors can be created from NumPy arrays."
   ]
  },
  {
   "cell_type": "code",
   "execution_count": 3,
   "metadata": {},
   "outputs": [
    {
     "data": {
      "text/plain": [
       "tensor([[1, 2],\n",
       "        [3, 4]])"
      ]
     },
     "execution_count": 3,
     "metadata": {},
     "output_type": "execute_result"
    }
   ],
   "source": [
    "np_array = np.array(data)\n",
    "x_np = torch.from_numpy(np_array)\n",
    "x_np"
   ]
  },
  {
   "cell_type": "markdown",
   "metadata": {},
   "source": [
    "**From another tensor**:\n",
    "The new tensor retains the properties (shape, datatype) of the argument tensor, unless explicitly overridden."
   ]
  },
  {
   "cell_type": "code",
   "execution_count": 4,
   "metadata": {},
   "outputs": [
    {
     "data": {
      "text/plain": [
       "(tensor([[1, 1],\n",
       "         [1, 1]]),\n",
       " torch.Tensor)"
      ]
     },
     "execution_count": 4,
     "metadata": {},
     "output_type": "execute_result"
    }
   ],
   "source": [
    "x_ones = torch.ones_like(x_data)\n",
    "x_ones, type(x_ones)"
   ]
  },
  {
   "cell_type": "markdown",
   "metadata": {},
   "source": [
    "**With random or constant values**:\n",
    "\n",
    "$\\texttt{shape}$ is a tuple of tensor dimensions.\n",
    "In the functions below, it determines the dimensionality of the output tensor."
   ]
  },
  {
   "cell_type": "code",
   "execution_count": 5,
   "metadata": {},
   "outputs": [
    {
     "data": {
      "text/plain": [
       "(2, 3)"
      ]
     },
     "execution_count": 5,
     "metadata": {},
     "output_type": "execute_result"
    }
   ],
   "source": [
    "shape = (2,3,)\n",
    "shape"
   ]
  },
  {
   "cell_type": "code",
   "execution_count": 6,
   "metadata": {},
   "outputs": [
    {
     "data": {
      "text/plain": [
       "(tensor([[0.6538, 0.2781, 0.3453],\n",
       "         [0.6570, 0.3859, 0.5170]]),\n",
       " tensor([[1., 1., 1.],\n",
       "         [1., 1., 1.]]),\n",
       " tensor([[0., 0., 0.],\n",
       "         [0., 0., 0.]]))"
      ]
     },
     "execution_count": 6,
     "metadata": {},
     "output_type": "execute_result"
    }
   ],
   "source": [
    "rand_tensor = torch.rand(shape)\n",
    "ones_tensor = torch.ones(shape)\n",
    "zeros_tensor = torch.zeros(shape)\n",
    "\n",
    "rand_tensor, ones_tensor, zeros_tensor"
   ]
  },
  {
   "cell_type": "markdown",
   "metadata": {},
   "source": [
    "# Attributes of a Tensor"
   ]
  },
  {
   "cell_type": "markdown",
   "metadata": {},
   "source": [
    "Tensor attributes describe their shape, datatype, and the device on which they are stored."
   ]
  },
  {
   "cell_type": "code",
   "execution_count": 7,
   "metadata": {},
   "outputs": [],
   "source": [
    "tensor = torch.rand(3,4)"
   ]
  },
  {
   "cell_type": "code",
   "execution_count": 8,
   "metadata": {},
   "outputs": [
    {
     "data": {
      "text/plain": [
       "(torch.Size([3, 4]), torch.float32, device(type='cpu'))"
      ]
     },
     "execution_count": 8,
     "metadata": {},
     "output_type": "execute_result"
    }
   ],
   "source": [
    "tensor.shape, tensor.dtype, tensor.device"
   ]
  },
  {
   "cell_type": "markdown",
   "metadata": {},
   "source": [
    "# Operations on Tensors"
   ]
  },
  {
   "cell_type": "markdown",
   "metadata": {},
   "source": [
    "Over 100 tensor operations, including arithmetic, linear algebra, matrix manipulation (transposing, indexing, slicing), sampling.\n",
    "\n",
    "Each of these operations can be run on the GPU (at typically higher speeds than on a CPU) or MPS.\n",
    "\n",
    "By default, tensors are created on the CPU.\n",
    "We need to explicitly move tensors to the MPS using $\\texttt{.to}$ method (after checking for MPS availability).\n",
    "Keep in mind that copying large tensors across devices can be expensive in terms of time and memory."
   ]
  },
  {
   "cell_type": "code",
   "execution_count": 9,
   "metadata": {},
   "outputs": [],
   "source": [
    "if torch.backends.mps.is_available():\n",
    "    tensor = tensor.to(\"mps\")"
   ]
  },
  {
   "cell_type": "code",
   "execution_count": 10,
   "metadata": {},
   "outputs": [
    {
     "data": {
      "text/plain": [
       "tensor([[0.8036, 0.0421, 0.1578, 0.5313],\n",
       "        [0.3454, 0.0828, 0.1828, 0.6417],\n",
       "        [0.6915, 0.9887, 0.6604, 0.0680]], device='mps:0')"
      ]
     },
     "execution_count": 10,
     "metadata": {},
     "output_type": "execute_result"
    }
   ],
   "source": [
    "tensor"
   ]
  },
  {
   "cell_type": "markdown",
   "metadata": {},
   "source": [
    "Try out some of the operations from the list.\n",
    "If you're familiar with the NumPy API, you'll find the Tensor API a breeze to use.\n",
    "\n",
    "**Standard numpy-like indexing and slicing**:"
   ]
  },
  {
   "cell_type": "code",
   "execution_count": 11,
   "metadata": {},
   "outputs": [
    {
     "name": "stdout",
     "output_type": "stream",
     "text": [
      "tensor([[5., 0., 0., 0.],\n",
      "        [0., 3., 0., 0.],\n",
      "        [0., 0., 1., 0.],\n",
      "        [0., 0., 0., 2.]])\n",
      "First row: tensor([5., 0., 0., 0.])\n",
      "Second column: tensor([0., 3., 0., 0.])\n",
      "Last column: tensor([0., 0., 0., 2.])\n",
      "tensor([[5., 5., 0., 0.],\n",
      "        [0., 5., 0., 0.],\n",
      "        [0., 5., 1., 0.],\n",
      "        [0., 5., 0., 2.]])\n"
     ]
    }
   ],
   "source": [
    "tensor = torch.Tensor([5, 3, 1, 2])\n",
    "tensor = torch.diag(tensor)\n",
    "print(tensor)\n",
    "\n",
    "print(f\"First row: {tensor[0]}\")\n",
    "print(f\"Second column: {tensor[:, 1]}\")\n",
    "print(f\"Last column: {tensor[:, -1]}\")\n",
    "\n",
    "tensor[:, 1] = 5\n",
    "print(tensor)"
   ]
  },
  {
   "cell_type": "markdown",
   "metadata": {},
   "source": [
    "**Joining tensors** You can use $\\texttt{torch.cat}$ to concatenate a sequence of tensors along a given dimension.\n",
    "Also using $\\texttt{torch.stack}$, another tensor joining operator that is subtly different from $\\texttt{torch.cat}$."
   ]
  },
  {
   "cell_type": "code",
   "execution_count": 12,
   "metadata": {},
   "outputs": [
    {
     "data": {
      "text/plain": [
       "(tensor([[5., 5., 0., 0.],\n",
       "         [0., 5., 0., 0.],\n",
       "         [0., 5., 1., 0.],\n",
       "         [0., 5., 0., 2.],\n",
       "         [5., 5., 0., 0.],\n",
       "         [0., 5., 0., 0.],\n",
       "         [0., 5., 1., 0.],\n",
       "         [0., 5., 0., 2.]]),\n",
       " tensor([[5., 5., 0., 0.],\n",
       "         [0., 5., 0., 0.],\n",
       "         [0., 5., 1., 0.],\n",
       "         [0., 5., 0., 2.],\n",
       "         [5., 5., 0., 0.],\n",
       "         [0., 5., 0., 0.],\n",
       "         [0., 5., 1., 0.],\n",
       "         [0., 5., 0., 2.]]),\n",
       " torch.Size([8, 4]))"
      ]
     },
     "execution_count": 12,
     "metadata": {},
     "output_type": "execute_result"
    }
   ],
   "source": [
    "t1 = torch.cat((tensor, tensor), dim=0)\n",
    "t11 = torch.cat((tensor, tensor)) # dim=0 can be omitted\n",
    "t1, t11, t1.shape"
   ]
  },
  {
   "cell_type": "code",
   "execution_count": 13,
   "metadata": {},
   "outputs": [
    {
     "data": {
      "text/plain": [
       "(tensor([[5., 5., 0., 0., 5., 5., 0., 0.],\n",
       "         [0., 5., 0., 0., 0., 5., 0., 0.],\n",
       "         [0., 5., 1., 0., 0., 5., 1., 0.],\n",
       "         [0., 5., 0., 2., 0., 5., 0., 2.]]),\n",
       " torch.Size([4, 8]))"
      ]
     },
     "execution_count": 13,
     "metadata": {},
     "output_type": "execute_result"
    }
   ],
   "source": [
    "t2 = torch.cat([tensor, tensor], dim=1)\n",
    "t2, t2.shape"
   ]
  },
  {
   "cell_type": "markdown",
   "metadata": {},
   "source": [
    "Using $\\texttt{torch.stack}$"
   ]
  },
  {
   "cell_type": "code",
   "execution_count": 14,
   "metadata": {},
   "outputs": [
    {
     "data": {
      "text/plain": [
       "(tensor([[[5., 5., 0., 0.],\n",
       "          [0., 5., 0., 0.],\n",
       "          [0., 5., 1., 0.],\n",
       "          [0., 5., 0., 2.]],\n",
       " \n",
       "         [[5., 5., 0., 0.],\n",
       "          [0., 5., 0., 0.],\n",
       "          [0., 5., 1., 0.],\n",
       "          [0., 5., 0., 2.]]]),\n",
       " tensor([[[5., 5., 0., 0.],\n",
       "          [0., 5., 0., 0.],\n",
       "          [0., 5., 1., 0.],\n",
       "          [0., 5., 0., 2.]],\n",
       " \n",
       "         [[5., 5., 0., 0.],\n",
       "          [0., 5., 0., 0.],\n",
       "          [0., 5., 1., 0.],\n",
       "          [0., 5., 0., 2.]]]),\n",
       " torch.Size([2, 4, 4]),\n",
       " torch.Size([2, 4, 4]))"
      ]
     },
     "execution_count": 14,
     "metadata": {},
     "output_type": "execute_result"
    }
   ],
   "source": [
    "t3 = torch.stack((tensor, tensor))\n",
    "t31 = torch.stack((tensor, tensor), dim=0)\n",
    "t3, t31, t3.shape, t31.shape"
   ]
  },
  {
   "cell_type": "code",
   "execution_count": 15,
   "metadata": {},
   "outputs": [
    {
     "data": {
      "text/plain": [
       "(tensor([[[5., 5., 0., 0.],\n",
       "          [5., 5., 0., 0.]],\n",
       " \n",
       "         [[0., 5., 0., 0.],\n",
       "          [0., 5., 0., 0.]],\n",
       " \n",
       "         [[0., 5., 1., 0.],\n",
       "          [0., 5., 1., 0.]],\n",
       " \n",
       "         [[0., 5., 0., 2.],\n",
       "          [0., 5., 0., 2.]]]),\n",
       " torch.Size([4, 2, 4]))"
      ]
     },
     "execution_count": 15,
     "metadata": {},
     "output_type": "execute_result"
    }
   ],
   "source": [
    "t4 = torch.stack((tensor, tensor), dim=1)\n",
    "t4, t4.shape"
   ]
  },
  {
   "cell_type": "code",
   "execution_count": 16,
   "metadata": {},
   "outputs": [
    {
     "data": {
      "text/plain": [
       "(tensor([[[5., 5.],\n",
       "          [5., 5.],\n",
       "          [0., 0.],\n",
       "          [0., 0.]],\n",
       " \n",
       "         [[0., 0.],\n",
       "          [5., 5.],\n",
       "          [0., 0.],\n",
       "          [0., 0.]],\n",
       " \n",
       "         [[0., 0.],\n",
       "          [5., 5.],\n",
       "          [1., 1.],\n",
       "          [0., 0.]],\n",
       " \n",
       "         [[0., 0.],\n",
       "          [5., 5.],\n",
       "          [0., 0.],\n",
       "          [2., 2.]]]),\n",
       " torch.Size([4, 4, 2]))"
      ]
     },
     "execution_count": 16,
     "metadata": {},
     "output_type": "execute_result"
    }
   ],
   "source": [
    "t5 = torch.stack((tensor, tensor), dim=2)\n",
    "t5, t5.shape"
   ]
  },
  {
   "cell_type": "markdown",
   "metadata": {},
   "source": [
    "Thus $\\texttt{torch.cat}$ and $\\texttt{torch.stack}$ are different by the final tensor dimensions."
   ]
  },
  {
   "cell_type": "markdown",
   "metadata": {},
   "source": [
    "**Arithmetic operations**"
   ]
  },
  {
   "cell_type": "code",
   "execution_count": 17,
   "metadata": {},
   "outputs": [
    {
     "data": {
      "text/plain": [
       "(tensor([[5., 5., 0., 0.],\n",
       "         [0., 5., 0., 0.],\n",
       "         [0., 5., 1., 0.],\n",
       "         [0., 5., 0., 2.]]),\n",
       " tensor([[50., 25., 25., 25.],\n",
       "         [25., 25., 25., 25.],\n",
       "         [25., 25., 26., 25.],\n",
       "         [25., 25., 25., 29.]]),\n",
       " tensor([[50., 25., 25., 25.],\n",
       "         [25., 25., 25., 25.],\n",
       "         [25., 25., 26., 25.],\n",
       "         [25., 25., 25., 29.]]),\n",
       " tensor([[50., 25., 25., 25.],\n",
       "         [25., 25., 25., 25.],\n",
       "         [25., 25., 26., 25.],\n",
       "         [25., 25., 25., 29.]]))"
      ]
     },
     "execution_count": 17,
     "metadata": {},
     "output_type": "execute_result"
    }
   ],
   "source": [
    "# Matrix multiplication\n",
    "y1 = tensor @ tensor.T\n",
    "y2 = tensor.matmul(tensor.T)\n",
    "\n",
    "y3 = torch.rand_like(y1)\n",
    "torch.matmul(tensor, tensor.T, out=y3)\n",
    "\n",
    "tensor, y1, y2, y3"
   ]
  },
  {
   "cell_type": "code",
   "execution_count": 18,
   "metadata": {},
   "outputs": [
    {
     "data": {
      "text/plain": [
       "(tensor([[25., 25.,  0.,  0.],\n",
       "         [ 0., 25.,  0.,  0.],\n",
       "         [ 0., 25.,  1.,  0.],\n",
       "         [ 0., 25.,  0.,  4.]]),\n",
       " tensor([[25., 25.,  0.,  0.],\n",
       "         [ 0., 25.,  0.,  0.],\n",
       "         [ 0., 25.,  1.,  0.],\n",
       "         [ 0., 25.,  0.,  4.]]),\n",
       " tensor([[25., 25.,  0.,  0.],\n",
       "         [ 0., 25.,  0.,  0.],\n",
       "         [ 0., 25.,  1.,  0.],\n",
       "         [ 0., 25.,  0.,  4.]]))"
      ]
     },
     "execution_count": 18,
     "metadata": {},
     "output_type": "execute_result"
    }
   ],
   "source": [
    "# Element-wise product\n",
    "z1 = tensor*tensor\n",
    "z2 = tensor.mul(tensor)\n",
    "\n",
    "z3 = torch.rand_like(tensor)\n",
    "torch.mul(tensor, tensor, out=z3)\n",
    "\n",
    "z1, z2, z3"
   ]
  },
  {
   "cell_type": "markdown",
   "metadata": {},
   "source": [
    "**Single-element tensors** If you have a one-element tensor, for example by aggregating all values of a tensor into one value, you can convert it to a Python numerical value using $\\texttt{item()}$:"
   ]
  },
  {
   "cell_type": "code",
   "execution_count": 19,
   "metadata": {},
   "outputs": [
    {
     "data": {
      "text/plain": [
       "(tensor(28.), torch.Tensor, 28.0, float)"
      ]
     },
     "execution_count": 19,
     "metadata": {},
     "output_type": "execute_result"
    }
   ],
   "source": [
    "agg = tensor.sum()\n",
    "agg_item = agg.item()\n",
    "agg, type(agg), agg_item, type(agg_item)"
   ]
  },
  {
   "cell_type": "markdown",
   "metadata": {},
   "source": [
    "**In-place operations** Operations that store the result into the operand are called in-place.\n",
    "They are denoted by a $\\texttt{\\_}$ suffix.\n",
    "For example: $\\texttt{x.copy\\_(y)}$, $\\texttt{x.t\\_()}$, will change $\\texttt{x}$."
   ]
  },
  {
   "cell_type": "code",
   "execution_count": 20,
   "metadata": {},
   "outputs": [
    {
     "name": "stdout",
     "output_type": "stream",
     "text": [
      "tensor([[5., 5., 0., 0.],\n",
      "        [0., 5., 0., 0.],\n",
      "        [0., 5., 1., 0.],\n",
      "        [0., 5., 0., 2.]]) \n",
      "\n",
      "tensor([[8.1416, 8.1416, 3.1416, 3.1416],\n",
      "        [3.1416, 8.1416, 3.1416, 3.1416],\n",
      "        [3.1416, 8.1416, 4.1416, 3.1416],\n",
      "        [3.1416, 8.1416, 3.1416, 5.1416]])\n"
     ]
    }
   ],
   "source": [
    "print(f\"{tensor} \\n\")\n",
    "tensor.add_(np.pi)\n",
    "print(tensor)"
   ]
  },
  {
   "cell_type": "code",
   "execution_count": 21,
   "metadata": {},
   "outputs": [
    {
     "data": {
      "text/plain": [
       "tensor([[1., 1., 1., 1.],\n",
       "        [1., 1., 1., 1.],\n",
       "        [1., 1., 1., 1.],\n",
       "        [1., 1., 1., 1.]])"
      ]
     },
     "execution_count": 21,
     "metadata": {},
     "output_type": "execute_result"
    }
   ],
   "source": [
    "tensor.copy_(1)\n",
    "tensor"
   ]
  },
  {
   "cell_type": "markdown",
   "metadata": {},
   "source": [
    "# Bridge with NumPy"
   ]
  },
  {
   "cell_type": "markdown",
   "metadata": {},
   "source": [
    "Tensors on the CPU and NumPy arrays can share their underlying memory locations, and changing one will change the other."
   ]
  },
  {
   "cell_type": "markdown",
   "metadata": {},
   "source": [
    "## Tensor to NumPy array"
   ]
  },
  {
   "cell_type": "code",
   "execution_count": 22,
   "metadata": {},
   "outputs": [
    {
     "name": "stdout",
     "output_type": "stream",
     "text": [
      "t: tensor([1., 1., 1., 1., 1.])\n",
      "n: [1. 1. 1. 1. 1.]\n"
     ]
    }
   ],
   "source": [
    "t = torch.ones(5)\n",
    "print(f\"t: {t}\")\n",
    "n = t.numpy()\n",
    "print(f\"n: {n}\")"
   ]
  },
  {
   "cell_type": "markdown",
   "metadata": {},
   "source": [
    "A change in the tensor reflects in the NumPy array."
   ]
  },
  {
   "cell_type": "code",
   "execution_count": 23,
   "metadata": {},
   "outputs": [
    {
     "name": "stdout",
     "output_type": "stream",
     "text": [
      "t: tensor([2., 2., 2., 2., 2.])\n",
      "n: [2. 2. 2. 2. 2.]\n"
     ]
    }
   ],
   "source": [
    "t.add_(1)\n",
    "print(f\"t: {t}\")\n",
    "print(f\"n: {n}\")"
   ]
  },
  {
   "cell_type": "code",
   "execution_count": 24,
   "metadata": {},
   "outputs": [
    {
     "name": "stdout",
     "output_type": "stream",
     "text": [
      "t1: tensor([1., 1., 1.])\n",
      "t_mps: tensor([1., 1., 1.], device='mps:0')\n",
      "n1: [1. 1. 1.]\n"
     ]
    }
   ],
   "source": [
    "t1 = torch.ones(3)\n",
    "t_mps = t1.to(\"mps\")\n",
    "n1 = t1.numpy()\n",
    "\n",
    "print(f\"t1: {t1}\")\n",
    "print(f\"t_mps: {t_mps}\")\n",
    "print(f\"n1: {n1}\")"
   ]
  },
  {
   "cell_type": "code",
   "execution_count": 25,
   "metadata": {},
   "outputs": [
    {
     "name": "stdout",
     "output_type": "stream",
     "text": [
      "t1: tensor([4.1416, 4.1416, 4.1416])\n",
      "t_mps: tensor([1., 1., 1.], device='mps:0')\n",
      "n1: [4.141593 4.141593 4.141593]\n"
     ]
    }
   ],
   "source": [
    "t1.add_(np.pi)\n",
    "\n",
    "print(f\"t1: {t1}\")\n",
    "print(f\"t_mps: {t_mps}\")\n",
    "print(f\"n1: {n1}\")"
   ]
  },
  {
   "cell_type": "markdown",
   "metadata": {},
   "source": [
    "## NumPy to Tensor array"
   ]
  },
  {
   "cell_type": "markdown",
   "metadata": {},
   "source": [
    "Note that in PyTorch, when using MPS backend for computation, only tensors with $\\texttt{float32}$ (i.e., $\\texttt{torch.float32}$) and \\texttt{int64}$ (i.e., $\\texttt{torch.int64}$) data types can be directly transferred to the MPS device. \n",
    "To operate on the MPS backend, you need to ensure that the tensor's data type meets these requirements."
   ]
  },
  {
   "cell_type": "code",
   "execution_count": 26,
   "metadata": {},
   "outputs": [
    {
     "name": "stdout",
     "output_type": "stream",
     "text": [
      "n: [1. 1. 1. 1. 1.]\n",
      "t: tensor([1., 1., 1., 1., 1.], dtype=torch.float64)\n",
      "t_mps: tensor([1., 1., 1., 1., 1.], device='mps:0')\n"
     ]
    }
   ],
   "source": [
    "n = np.ones(5)\n",
    "t = torch.from_numpy(n)\n",
    "t32 = t.to(torch.float32)\n",
    "t_mps = t32.to(\"mps\")\n",
    "\n",
    "print(f\"n: {n}\")\n",
    "print(f\"t: {t}\")\n",
    "print(f\"t_mps: {t_mps}\")"
   ]
  },
  {
   "cell_type": "code",
   "execution_count": 27,
   "metadata": {},
   "outputs": [
    {
     "name": "stdout",
     "output_type": "stream",
     "text": [
      "n: [2. 2. 2. 2. 2.]\n",
      "t: tensor([2., 2., 2., 2., 2.], dtype=torch.float64)\n",
      "t_mps: tensor([1., 1., 1., 1., 1.], device='mps:0')\n"
     ]
    }
   ],
   "source": [
    "np.add(n, 1, out=n)\n",
    "print(f\"n: {n}\")\n",
    "print(f\"t: {t}\")\n",
    "print(f\"t_mps: {t_mps}\")"
   ]
  }
 ],
 "metadata": {
  "kernelspec": {
   "display_name": "pytorch",
   "language": "python",
   "name": "python3"
  },
  "language_info": {
   "codemirror_mode": {
    "name": "ipython",
    "version": 3
   },
   "file_extension": ".py",
   "mimetype": "text/x-python",
   "name": "python",
   "nbconvert_exporter": "python",
   "pygments_lexer": "ipython3",
   "version": "3.9.6"
  }
 },
 "nbformat": 4,
 "nbformat_minor": 2
}
