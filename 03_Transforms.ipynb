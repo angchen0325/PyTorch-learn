{
 "cells": [
  {
   "cell_type": "markdown",
   "metadata": {},
   "source": [
    "# Transforms"
   ]
  },
  {
   "cell_type": "markdown",
   "metadata": {},
   "source": [
    "Data does not always come in its final processed form that is required for training machine learning algoritms.\n",
    "We use **transforms** to perform some manipulation of the data and make it suitable for training.\n",
    "\n",
    "All TorchVision datasets have two parameters - $\\texttt{transform}$ to modify the features and $\\texttt{target\\_transform}$ to modify the labels - that accept callables containing the transformation logic.\n",
    "The $\\texttt{torchvision.transforms}$ module offers several commonly-used transforms out of the box.\n",
    "\n",
    "The FashionMNIST features are in PIL Image format, and the labels are integers.\n",
    "For training, we nee the features as normalized tensors, and the labels as one-hotencoded tensors.\n",
    "To make these transformations, we use $\\texttt{ToTensor}$ and $\\texttt{Lambda}$."
   ]
  },
  {
   "cell_type": "code",
   "execution_count": 2,
   "metadata": {},
   "outputs": [],
   "source": [
    "import torch\n",
    "from torchvision import datasets\n",
    "from torchvision.transforms import ToTensor, Lambda\n",
    "\n",
    "ds = datasets.FashionMNIST(\n",
    "    root=\"data\",\n",
    "    train=True,\n",
    "    download=True,\n",
    "    transform=ToTensor(),\n",
    "    target_transform=Lambda(lambda y: torch.zeros(10, dtype=torch.float).scatter_(0, torch.sensor(y), value=1))\n",
    ")"
   ]
  },
  {
   "cell_type": "markdown",
   "metadata": {},
   "source": [
    "## ToTensor()"
   ]
  },
  {
   "cell_type": "markdown",
   "metadata": {},
   "source": [
    "ToTensor converts a PIL image or NumPy $\\texttt{ndarray}$ into a $\\texttt{FloatTensor}$, and scales the image's pixel intensity values in the range [0., 1.]."
   ]
  },
  {
   "cell_type": "markdown",
   "metadata": {},
   "source": [
    "# Lambda Transforms"
   ]
  },
  {
   "cell_type": "markdown",
   "metadata": {},
   "source": [
    "Lambda transforms apply any use-defined ldambda function.\n",
    "Here, we define a function to turn the integer into a one-hot encoded tensor.\n",
    "It first creates a zero tensor of size 10 (the number of labels in our dataset) and calls $\\texttt{scatter\\_}$ which assigns a $\\texttt{value=1}$ on the index as given by the label $\\texttt{y}$."
   ]
  }
 ],
 "metadata": {
  "kernelspec": {
   "display_name": "pytorch",
   "language": "python",
   "name": "python3"
  },
  "language_info": {
   "codemirror_mode": {
    "name": "ipython",
    "version": 3
   },
   "file_extension": ".py",
   "mimetype": "text/x-python",
   "name": "python",
   "nbconvert_exporter": "python",
   "pygments_lexer": "ipython3",
   "version": "3.9.6"
  }
 },
 "nbformat": 4,
 "nbformat_minor": 2
}
