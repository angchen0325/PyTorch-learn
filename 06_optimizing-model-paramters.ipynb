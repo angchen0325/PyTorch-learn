{
 "cells": [
  {
   "cell_type": "markdown",
   "metadata": {},
   "source": [
    "<center> <img src=\"data:image/svg+xml;base64,PD94bWwgdmVyc2lvbj0iMS4wIiBlbmNvZGluZz0iVVRGLTgiPz4KPHN2ZyB3aWR0aD0iMjU2cHgiIGhlaWdodD0iMzEwcHgiIHZpZXdCb3g9IjAgMCAyNTYgMzEwIiB2ZXJzaW9uPSIxLjEiIHhtbG5zPSJodHRwOi8vd3d3LnczLm9yZy8yMDAwL3N2ZyIgcHJlc2VydmVBc3BlY3RSYXRpbz0ieE1pZFlNaWQiPgogICAgPHRpdGxlPlB5VG9yY2g8L3RpdGxlPgogICAgPGc+CiAgICAgICAgPHBhdGggZD0iTTEyNy44MjUzNzUsMCBMMTI3LjgyNTM3NSw0NS4wNTMyMDYgTDU4LjYwMTQzODUsMTE0LjI3NDU4MSBDMjIuMzcyNDQ5OCwxNTEuMDE5Mjc5IDIyLjM3NjE0NjYsMjEwLjEyNzU5NCA1OC42MTI1MjksMjQ3LjUzODc3MiBMNTkuNzIxNjkxNywyNDguNjY1NzU3IEM5Ni43NDIxNTU1LDI4Ni4zODQ3MiAxNTcuNTExNTk2LDI4Ni4zODQ3MiAxOTUuMjMwNTU5LDI0OC42NjU3NTcgQzIzMi41NzIzMzMsMjEyLjAxNTQ5OCAyMzIuOTQ1NzUxLDE1Mi4wODg4NjcgMTk2LjM1MDgxMywxMTQuMjk1MzI3IEwxOTUuMjMwNTU5LDExMy4xNTY4ODkgTDIxOC4yODEwMzcsOTAuMTA2NDEyIEMyNjguNTcyOTg4LDE0MC4zOTgzNjMgMjY4LjU3Mjk4OCwyMjEuMDc1MDM0IDIxOC4yODEwMzcsMjcxLjcxNjIzNSBDMTY5LjAzNjgzNSwzMjIuMDA4MTg2IDg4LjAxMDkxNDEsMzIyLjAwODE4NiAzNy43MTg5NjMyLDI3MS43MTYyMzUgQy0xMi4wNzAwNjgyLDIyMS45MjcyMDMgLTEyLjU2Nzk1ODUsMTQyLjAxNTgwOCAzNi4yMjUyOTIyLDkxLjYyNDMyOTMgTDM3LjcxODk2MzIsOTAuMTA2NDEyIEwxMjcuODI1Mzc1LDAgWiBNMTczLjIyNzgzMSw1MC45OTA0NTAyIEMxODIuNDg2MzIzLDUwLjk5MDQ1MDIgMTg5Ljk5MTgxNCw1OC40OTU5NDEzIDE4OS45OTE4MTQsNjcuNzU0NDMzOCBDMTg5Ljk5MTgxNCw3Ny4wMTI5MjYzIDE4Mi40ODYzMjMsODQuNTE4NDE3NSAxNzMuMjI3ODMxLDg0LjUxODQxNzUgQzE2My45NjkzMzgsODQuNTE4NDE3NSAxNTYuNDYzODQ3LDc3LjAxMjkyNjMgMTU2LjQ2Mzg0Nyw2Ny43NTQ0MzM4IEMxNTYuNDYzODQ3LDU4LjQ5NTk0MTMgMTYzLjk2OTMzOCw1MC45OTA0NTAyIDE3My4yMjc4MzEsNTAuOTkwNDUwMiBaIiBmaWxsPSIjRUU0QzJDIj48L3BhdGg+CiAgICA8L2c+Cjwvc3ZnPgo=\" style=\"width:6.5%\"/></center>"
   ]
  },
  {
   "cell_type": "markdown",
   "metadata": {},
   "source": [
    "<center><font size=5 face=\"Helvetica\" color=#EE4B2B><b>\n",
    "Pytorch Tutorial: Optimizing Model Parameters\n",
    "</b></font></center>"
   ]
  },
  {
   "cell_type": "markdown",
   "metadata": {},
   "source": [
    "<center><font face=\"Helvetica\" size=3><b>Ang Chen</b></font></center>\n",
    "<center><font face=\"Helvetica\" size=3>July, 2024</font></center>\n",
    "\n",
    "***"
   ]
  },
  {
   "cell_type": "markdown",
   "metadata": {},
   "source": [
    "Now that we have a model and data it's time to train, validate and test our model by optimizing its parameters on our data.\n",
    "Training model is an iterative process;\n",
    "in each iteration, the model makes a guess about the output, calculates the error in its guess (loss), collects the derivatives of the error with respect to its parameters, and **optimizes** these parameters using gradient descent. \n",
    "For a more detailed walkthrough of this process, check out the vedio on [backpropagation from 3Blue1Brown](https://www.youtube.com/watch?v=tIeHLnjs5U8)."
   ]
  },
  {
   "cell_type": "markdown",
   "metadata": {},
   "source": [
    "# Prerequisite Code"
   ]
  },
  {
   "cell_type": "markdown",
   "metadata": {},
   "source": [
    "We load some code from the previous sections."
   ]
  },
  {
   "cell_type": "code",
   "execution_count": 1,
   "metadata": {},
   "outputs": [],
   "source": [
    "import torch\n",
    "from torch import nn\n",
    "from torch.utils.data import DataLoader\n",
    "from torchvision import datasets\n",
    "from torchvision.transforms import ToTensor\n",
    "\n",
    "training_data = datasets.FashionMNIST(\n",
    "    root=\"data\",\n",
    "    train=True,\n",
    "    download=True,\n",
    "    transform=ToTensor()\n",
    ")\n",
    "\n",
    "test_data = datasets.FashionMNIST(\n",
    "    root=\"data\",\n",
    "    train=False,\n",
    "    download=True,\n",
    "    transform=ToTensor()\n",
    ")\n",
    "\n",
    "train_dataloader = DataLoader(training_data, batch_size=64)\n",
    "test_dataloader = DataLoader(test_data, batch_size=64)\n",
    "\n",
    "class NeuralNetwork(nn.Module):\n",
    "    def __init__(self):\n",
    "        super().__init__()\n",
    "        self.flatten = nn.Flatten()\n",
    "        self.linear_relu_stack = nn.Sequential(\n",
    "            nn.Linear(28*28, 512),\n",
    "            nn.ReLU(),\n",
    "            nn.Linear(512, 512),\n",
    "            nn.ReLU(),\n",
    "            nn.Linear(512, 10),\n",
    "        )\n",
    "\n",
    "    def forward(self, x):\n",
    "        x = self.flatten(x)\n",
    "        logits = self.linear_relu_stack(x)\n",
    "        return logits\n",
    "\n",
    "model = NeuralNetwork()"
   ]
  },
  {
   "cell_type": "markdown",
   "metadata": {},
   "source": [
    "# Hyperparameters"
   ]
  },
  {
   "cell_type": "markdown",
   "metadata": {},
   "source": [
    "Hyperparameters are adjustable parameters that let you control the model optimization process.\n",
    "Different hyperparameter values can impact model training and convergence rates.\n",
    "\n",
    "We define the following hyperparameters for training:\n",
    " * **Number of Epochs** - the number times to iterate over the dataset\n",
    " * **Batch Size** - the number of data samples propagated through the network before the parameters are updated\n",
    " * **Learning Rate** - how much to update models parameters at each batch/epoch. Smaller values yield slow learning speed, while large values may results in unpredictable behavior during training."
   ]
  },
  {
   "cell_type": "code",
   "execution_count": 2,
   "metadata": {},
   "outputs": [],
   "source": [
    "learning_rate = 1e-3\n",
    "batch_size = 64\n",
    "epochs = 5"
   ]
  },
  {
   "cell_type": "markdown",
   "metadata": {},
   "source": [
    "# Optimization Loop"
   ]
  },
  {
   "cell_type": "markdown",
   "metadata": {},
   "source": [
    "Once we set our hyperparameters, we can then train and optimize our model with an opptimization loop.\n",
    "Each iteration of the optimization loop is called an **epoch**.\n",
    "\n",
    "Each epoch consists of two main parts:\n",
    " * **The Train Loop** - iteration over the training dataset and try to converge to optimial parameters.\n",
    " * **The Validation/Test Loop** - iteration over the test dataset to check if model performance is improving.\n",
    "\n",
    "Let's briefly familiarize ourselves with some of the concepts used in the training loop."
   ]
  },
  {
   "cell_type": "markdown",
   "metadata": {},
   "source": [
    "## Loss Function"
   ]
  },
  {
   "cell_type": "markdown",
   "metadata": {},
   "source": [
    "When presented with some training data, our untrained network is likely not to give the correct answer.\n",
    "**Loss function** measures the degree of dissimilarity of obtained result to the target value, \n",
    "and it is the loss function that we want to minimize during training.\n",
    "To calculate the loss we make a prediction using the inputs of our given data sample and compare it against the true data label value.\n",
    "\n",
    "Common loss functions include nn.MESLoss (Mean Square Error) for regression tasks, and nn.NLLoss (Negative Log Likelihood) for classification. nn.CrossEntropyLoss combines nn.LogSoftmax and nn.NLLLoss.\n",
    "\n",
    "We pass our model's output logits to nn.CrossEntropyLoss, which will normalize the the logits and compute the prediction error."
   ]
  },
  {
   "cell_type": "code",
   "execution_count": 3,
   "metadata": {},
   "outputs": [],
   "source": [
    "loss_fn = nn.CrossEntropyLoss()"
   ]
  },
  {
   "cell_type": "markdown",
   "metadata": {},
   "source": [
    "## Optimizer"
   ]
  },
  {
   "cell_type": "markdown",
   "metadata": {},
   "source": [
    "Optimization is the process of adjusting the parameters of a model to reduce model error in each training step.\n",
    "**Optimization algorithms** define how this process is performed (in this example we use Stochastic Gradient Descent).\n",
    "All optimization logic is encapsulated in the optimizer object.\n",
    "Here we use the SGD optimizer; additionally, there are many different optimizers available in PyTorch such as ADAM and RMSProp, that work better for diffrent kinds of models and data.\n",
    "\n",
    "We initialize the optimizer by registering the model's parameters that need to be trained, and passing in the learning rate hyperparameter."
   ]
  },
  {
   "cell_type": "code",
   "execution_count": 5,
   "metadata": {},
   "outputs": [],
   "source": [
    "optimizer = torch.optim.SGD(model.parameters(), lr=0.1)"
   ]
  },
  {
   "cell_type": "markdown",
   "metadata": {},
   "source": [
    "Insider the training loop, optimization happens in three steps:\n",
    " * Call optimizer.zero_grad() to reset the gradients of the model parameters. Gradients by default add up; to prevent double-counting, we explicitly zero them at each iteraiton.\n",
    " * Backpropagate the prediction loss with a call to loss.backward(). PyTorch deposits the gradients of the loss w.r.t. each parameter.\n",
    " * Once we have our gradients, we call optimizer.step() to adjust the parameters by the gradients collected in the backward pass."
   ]
  },
  {
   "cell_type": "markdown",
   "metadata": {},
   "source": [
    "# Full Implementation"
   ]
  },
  {
   "cell_type": "markdown",
   "metadata": {},
   "source": [
    "We define train_loop that loops over our optimization code, and test_loop that evaluates the model's performance against our test data."
   ]
  },
  {
   "cell_type": "code",
   "execution_count": 6,
   "metadata": {},
   "outputs": [],
   "source": [
    "def train_loop(dataloader, model, loss_fn, optimizer):\n",
    "    size = len(dataloader.dataset)\n",
    "    # Set the model to training mode - important for batch normalization and dropout layers\n",
    "    # Unnecessary in this situation but added for best practices\n",
    "    model.train()\n",
    "    for batch, (X, y) in enumerate(dataloader):\n",
    "        # Compute prediction and loss\n",
    "        pred = model(X)\n",
    "        loss = loss_fn(pred, y)\n",
    "\n",
    "        # Backpropagation\n",
    "        loss.backward()\n",
    "        optimizer.step()\n",
    "        optimizer.zero_grad()\n",
    "\n",
    "        if batch % 100 == 0:\n",
    "            loss, current = loss.item(), batch * batch_size + len(X)\n",
    "            print(f\"loss: {loss:>7f}  [{current:>5d}/{size:>5d}]\")\n",
    "\n",
    "\n",
    "def test_loop(dataloader, model, loss_fn):\n",
    "    # Set the model to evaluation mode - important for batch normalization and dropout layers\n",
    "    # Unnecessary in this situation but added for best practices\n",
    "    model.eval()\n",
    "    size = len(dataloader.dataset)\n",
    "    num_batches = len(dataloader)\n",
    "    test_loss, correct = 0, 0\n",
    "\n",
    "    # Evaluating the model with torch.no_grad() ensures that no gradients are computed during test mode\n",
    "    # also serves to reduce unnecessary gradient computations and memory usage for tensors with requires_grad=True\n",
    "    with torch.no_grad():\n",
    "        for X, y in dataloader:\n",
    "            pred = model(X)\n",
    "            test_loss += loss_fn(pred, y).item()\n",
    "            correct += (pred.argmax(1) == y).type(torch.float).sum().item()\n",
    "\n",
    "    test_loss /= num_batches\n",
    "    correct /= size\n",
    "    print(f\"Test Error: \\n Accuracy: {(100*correct):>0.1f}%, Avg loss: {test_loss:>8f} \\n\")"
   ]
  },
  {
   "cell_type": "markdown",
   "metadata": {},
   "source": [
    "We initialize the loss function and optimizer, and pass it to train_loop and test_loop.\n",
    "Free free to increase the number os epochs to track the model's improving performance."
   ]
  },
  {
   "cell_type": "code",
   "execution_count": 7,
   "metadata": {},
   "outputs": [
    {
     "name": "stdout",
     "output_type": "stream",
     "text": [
      "Epoch 1\n",
      "-------------------------------\n",
      "loss: 2.302637  [   64/60000]\n",
      "loss: 2.294991  [ 6464/60000]\n",
      "loss: 2.280324  [12864/60000]\n",
      "loss: 2.271579  [19264/60000]\n",
      "loss: 2.252519  [25664/60000]\n",
      "loss: 2.223919  [32064/60000]\n",
      "loss: 2.231131  [38464/60000]\n",
      "loss: 2.195972  [44864/60000]\n",
      "loss: 2.191454  [51264/60000]\n",
      "loss: 2.164274  [57664/60000]\n",
      "Test Error: \n",
      " Accuracy: 42.6%, Avg loss: 2.156043 \n",
      "\n",
      "Epoch 2\n",
      "-------------------------------\n",
      "loss: 2.165952  [   64/60000]\n",
      "loss: 2.157273  [ 6464/60000]\n",
      "loss: 2.107579  [12864/60000]\n",
      "loss: 2.123558  [19264/60000]\n",
      "loss: 2.069781  [25664/60000]\n",
      "loss: 2.011139  [32064/60000]\n",
      "loss: 2.042555  [38464/60000]\n",
      "loss: 1.954774  [44864/60000]\n",
      "loss: 1.962575  [51264/60000]\n",
      "loss: 1.899314  [57664/60000]\n",
      "Test Error: \n",
      " Accuracy: 58.0%, Avg loss: 1.888195 \n",
      "\n",
      "Epoch 3\n",
      "-------------------------------\n",
      "loss: 1.919716  [   64/60000]\n",
      "loss: 1.886276  [ 6464/60000]\n",
      "loss: 1.776411  [12864/60000]\n",
      "loss: 1.823266  [19264/60000]\n",
      "loss: 1.709602  [25664/60000]\n",
      "loss: 1.656964  [32064/60000]\n",
      "loss: 1.688951  [38464/60000]\n",
      "loss: 1.568216  [44864/60000]\n",
      "loss: 1.600695  [51264/60000]\n",
      "loss: 1.507192  [57664/60000]\n",
      "Test Error: \n",
      " Accuracy: 61.0%, Avg loss: 1.512853 \n",
      "\n",
      "Epoch 4\n",
      "-------------------------------\n",
      "loss: 1.579449  [   64/60000]\n",
      "loss: 1.536157  [ 6464/60000]\n",
      "loss: 1.393318  [12864/60000]\n",
      "loss: 1.472695  [19264/60000]\n",
      "loss: 1.357917  [25664/60000]\n",
      "loss: 1.344724  [32064/60000]\n",
      "loss: 1.365005  [38464/60000]\n",
      "loss: 1.265685  [44864/60000]\n",
      "loss: 1.311449  [51264/60000]\n",
      "loss: 1.221236  [57664/60000]\n",
      "Test Error: \n",
      " Accuracy: 63.6%, Avg loss: 1.241771 \n",
      "\n",
      "Epoch 5\n",
      "-------------------------------\n",
      "loss: 1.320686  [   64/60000]\n",
      "loss: 1.291031  [ 6464/60000]\n",
      "loss: 1.137001  [12864/60000]\n",
      "loss: 1.245432  [19264/60000]\n",
      "loss: 1.133549  [25664/60000]\n",
      "loss: 1.147308  [32064/60000]\n",
      "loss: 1.169248  [38464/60000]\n",
      "loss: 1.082533  [44864/60000]\n",
      "loss: 1.136714  [51264/60000]\n",
      "loss: 1.059656  [57664/60000]\n",
      "Test Error: \n",
      " Accuracy: 64.8%, Avg loss: 1.077388 \n",
      "\n",
      "Epoch 6\n",
      "-------------------------------\n",
      "loss: 1.152031  [   64/60000]\n",
      "loss: 1.139465  [ 6464/60000]\n",
      "loss: 0.971380  [12864/60000]\n",
      "loss: 1.105649  [19264/60000]\n",
      "loss: 0.995071  [25664/60000]\n",
      "loss: 1.017863  [32064/60000]\n",
      "loss: 1.051394  [38464/60000]\n",
      "loss: 0.969041  [44864/60000]\n",
      "loss: 1.025852  [51264/60000]\n",
      "loss: 0.961259  [57664/60000]\n",
      "Test Error: \n",
      " Accuracy: 65.6%, Avg loss: 0.973151 \n",
      "\n",
      "Epoch 7\n",
      "-------------------------------\n",
      "loss: 1.037162  [   64/60000]\n",
      "loss: 1.043032  [ 6464/60000]\n",
      "loss: 0.859754  [12864/60000]\n",
      "loss: 1.013312  [19264/60000]\n",
      "loss: 0.907610  [25664/60000]\n",
      "loss: 0.928507  [32064/60000]\n",
      "loss: 0.975923  [38464/60000]\n",
      "loss: 0.897162  [44864/60000]\n",
      "loss: 0.950913  [51264/60000]\n",
      "loss: 0.896369  [57664/60000]\n",
      "Test Error: \n",
      " Accuracy: 66.8%, Avg loss: 0.903191 \n",
      "\n",
      "Epoch 8\n",
      "-------------------------------\n",
      "loss: 0.953924  [   64/60000]\n",
      "loss: 0.977343  [ 6464/60000]\n",
      "loss: 0.780711  [12864/60000]\n",
      "loss: 0.948824  [19264/60000]\n",
      "loss: 0.849606  [25664/60000]\n",
      "loss: 0.864080  [32064/60000]\n",
      "loss: 0.923795  [38464/60000]\n",
      "loss: 0.850090  [44864/60000]\n",
      "loss: 0.897640  [51264/60000]\n",
      "loss: 0.850167  [57664/60000]\n",
      "Test Error: \n",
      " Accuracy: 68.1%, Avg loss: 0.853463 \n",
      "\n",
      "Epoch 9\n",
      "-------------------------------\n",
      "loss: 0.890621  [   64/60000]\n",
      "loss: 0.929195  [ 6464/60000]\n",
      "loss: 0.722117  [12864/60000]\n",
      "loss: 0.901664  [19264/60000]\n",
      "loss: 0.808541  [25664/60000]\n",
      "loss: 0.815940  [32064/60000]\n",
      "loss: 0.884786  [38464/60000]\n",
      "loss: 0.818004  [44864/60000]\n",
      "loss: 0.858175  [51264/60000]\n",
      "loss: 0.815227  [57664/60000]\n",
      "Test Error: \n",
      " Accuracy: 69.2%, Avg loss: 0.816027 \n",
      "\n",
      "Epoch 10\n",
      "-------------------------------\n",
      "loss: 0.840133  [   64/60000]\n",
      "loss: 0.891204  [ 6464/60000]\n",
      "loss: 0.676737  [12864/60000]\n",
      "loss: 0.865710  [19264/60000]\n",
      "loss: 0.777589  [25664/60000]\n",
      "loss: 0.778845  [32064/60000]\n",
      "loss: 0.853428  [38464/60000]\n",
      "loss: 0.794390  [44864/60000]\n",
      "loss: 0.827263  [51264/60000]\n",
      "loss: 0.787395  [57664/60000]\n",
      "Test Error: \n",
      " Accuracy: 70.4%, Avg loss: 0.786216 \n",
      "\n",
      "Done!\n"
     ]
    }
   ],
   "source": [
    "loss_fn = nn.CrossEntropyLoss()\n",
    "optimizer = torch.optim.SGD(model.parameters(), lr=learning_rate)\n",
    "\n",
    "epochs = 10\n",
    "for t in range(epochs):\n",
    "    print(f\"Epoch {t+1}\\n-------------------------------\")\n",
    "    train_loop(train_dataloader, model, loss_fn, optimizer)\n",
    "    test_loop(test_dataloader, model, loss_fn)\n",
    "print(\"Done!\")"
   ]
  }
 ],
 "metadata": {
  "kernelspec": {
   "display_name": "pytorch",
   "language": "python",
   "name": "python3"
  },
  "language_info": {
   "codemirror_mode": {
    "name": "ipython",
    "version": 3
   },
   "file_extension": ".py",
   "mimetype": "text/x-python",
   "name": "python",
   "nbconvert_exporter": "python",
   "pygments_lexer": "ipython3",
   "version": "3.9.6"
  }
 },
 "nbformat": 4,
 "nbformat_minor": 2
}
